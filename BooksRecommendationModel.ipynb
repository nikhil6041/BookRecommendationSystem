{
 "cells": [
  {
   "cell_type": "code",
   "execution_count": 1,
   "metadata": {},
   "outputs": [
    {
     "name": "stderr",
     "output_type": "stream",
     "text": [
      "Using TensorFlow backend.\n"
     ]
    }
   ],
   "source": [
    "import numpy as np\n",
    "import pandas as pd\n",
    "import matplotlib.pyplot as plt\n",
    "import seaborn as sns\n",
    "import warnings\n",
    "from keras.layers import Input,Embedding,Flatten,Dense,Dot,Concatenate,Dropout\n",
    "from keras.models import Model,load_model\n",
    "warnings.filterwarnings('ignore')"
   ]
  },
  {
   "cell_type": "code",
   "execution_count": 2,
   "metadata": {},
   "outputs": [],
   "source": [
    "import os\n",
    "currdir = os.getcwd()"
   ]
  },
  {
   "cell_type": "code",
   "execution_count": 3,
   "metadata": {},
   "outputs": [
    {
     "data": {
      "text/plain": [
       "['.ipynb_checkpoints',\n",
       " 'books.csv',\n",
       " 'BooksRecommendationModel.ipynb',\n",
       " 'book_tags.csv',\n",
       " 'DataExploration.ipynb',\n",
       " 'dot_product_model.h5',\n",
       " 'nn1_model.h5',\n",
       " 'nn2_model.h5',\n",
       " 'ratings.csv',\n",
       " 'sample_book.xml',\n",
       " 'tags.csv',\n",
       " 'to_read.csv']"
      ]
     },
     "execution_count": 3,
     "metadata": {},
     "output_type": "execute_result"
    }
   ],
   "source": [
    "os.listdir(currdir)"
   ]
  },
  {
   "cell_type": "code",
   "execution_count": 4,
   "metadata": {},
   "outputs": [],
   "source": [
    "ratings = pd.read_csv('ratings.csv')"
   ]
  },
  {
   "cell_type": "code",
   "execution_count": 5,
   "metadata": {},
   "outputs": [
    {
     "data": {
      "text/html": [
       "<div>\n",
       "<style scoped>\n",
       "    .dataframe tbody tr th:only-of-type {\n",
       "        vertical-align: middle;\n",
       "    }\n",
       "\n",
       "    .dataframe tbody tr th {\n",
       "        vertical-align: top;\n",
       "    }\n",
       "\n",
       "    .dataframe thead th {\n",
       "        text-align: right;\n",
       "    }\n",
       "</style>\n",
       "<table border=\"1\" class=\"dataframe\">\n",
       "  <thead>\n",
       "    <tr style=\"text-align: right;\">\n",
       "      <th></th>\n",
       "      <th>book_id</th>\n",
       "      <th>user_id</th>\n",
       "      <th>rating</th>\n",
       "    </tr>\n",
       "  </thead>\n",
       "  <tbody>\n",
       "    <tr>\n",
       "      <th>0</th>\n",
       "      <td>1</td>\n",
       "      <td>314</td>\n",
       "      <td>5</td>\n",
       "    </tr>\n",
       "    <tr>\n",
       "      <th>1</th>\n",
       "      <td>1</td>\n",
       "      <td>439</td>\n",
       "      <td>3</td>\n",
       "    </tr>\n",
       "    <tr>\n",
       "      <th>2</th>\n",
       "      <td>1</td>\n",
       "      <td>588</td>\n",
       "      <td>5</td>\n",
       "    </tr>\n",
       "    <tr>\n",
       "      <th>3</th>\n",
       "      <td>1</td>\n",
       "      <td>1169</td>\n",
       "      <td>4</td>\n",
       "    </tr>\n",
       "    <tr>\n",
       "      <th>4</th>\n",
       "      <td>1</td>\n",
       "      <td>1185</td>\n",
       "      <td>4</td>\n",
       "    </tr>\n",
       "    <tr>\n",
       "      <th>...</th>\n",
       "      <td>...</td>\n",
       "      <td>...</td>\n",
       "      <td>...</td>\n",
       "    </tr>\n",
       "    <tr>\n",
       "      <th>981751</th>\n",
       "      <td>10000</td>\n",
       "      <td>48386</td>\n",
       "      <td>5</td>\n",
       "    </tr>\n",
       "    <tr>\n",
       "      <th>981752</th>\n",
       "      <td>10000</td>\n",
       "      <td>49007</td>\n",
       "      <td>4</td>\n",
       "    </tr>\n",
       "    <tr>\n",
       "      <th>981753</th>\n",
       "      <td>10000</td>\n",
       "      <td>49383</td>\n",
       "      <td>5</td>\n",
       "    </tr>\n",
       "    <tr>\n",
       "      <th>981754</th>\n",
       "      <td>10000</td>\n",
       "      <td>50124</td>\n",
       "      <td>5</td>\n",
       "    </tr>\n",
       "    <tr>\n",
       "      <th>981755</th>\n",
       "      <td>10000</td>\n",
       "      <td>51328</td>\n",
       "      <td>1</td>\n",
       "    </tr>\n",
       "  </tbody>\n",
       "</table>\n",
       "<p>981756 rows × 3 columns</p>\n",
       "</div>"
      ],
      "text/plain": [
       "        book_id  user_id  rating\n",
       "0             1      314       5\n",
       "1             1      439       3\n",
       "2             1      588       5\n",
       "3             1     1169       4\n",
       "4             1     1185       4\n",
       "...         ...      ...     ...\n",
       "981751    10000    48386       5\n",
       "981752    10000    49007       4\n",
       "981753    10000    49383       5\n",
       "981754    10000    50124       5\n",
       "981755    10000    51328       1\n",
       "\n",
       "[981756 rows x 3 columns]"
      ]
     },
     "execution_count": 5,
     "metadata": {},
     "output_type": "execute_result"
    }
   ],
   "source": [
    "ratings"
   ]
  },
  {
   "cell_type": "code",
   "execution_count": 6,
   "metadata": {},
   "outputs": [],
   "source": [
    "n_users = len(ratings.user_id.unique())\n",
    "n_books = len(ratings.book_id.unique())"
   ]
  },
  {
   "cell_type": "code",
   "execution_count": 7,
   "metadata": {},
   "outputs": [],
   "source": [
    "def train_validate_test_split(df, train_percent=.6, validate_percent=.2, seed=None):\n",
    "    np.random.seed(seed)\n",
    "    perm = np.random.permutation(df.index)\n",
    "    m = len(df.index)\n",
    "    train_end = int(train_percent * m)\n",
    "    validate_end = int(validate_percent * m) + train_end\n",
    "    train = df.iloc[perm[:train_end]]\n",
    "    validate = df.iloc[perm[train_end:validate_end]]\n",
    "    test = df.iloc[perm[validate_end:]]\n",
    "    return train, validate, test"
   ]
  },
  {
   "cell_type": "code",
   "execution_count": 8,
   "metadata": {},
   "outputs": [],
   "source": [
    "train , validate , test = train_validate_test_split(ratings)"
   ]
  },
  {
   "cell_type": "code",
   "execution_count": 9,
   "metadata": {},
   "outputs": [
    {
     "data": {
      "text/html": [
       "<div>\n",
       "<style scoped>\n",
       "    .dataframe tbody tr th:only-of-type {\n",
       "        vertical-align: middle;\n",
       "    }\n",
       "\n",
       "    .dataframe tbody tr th {\n",
       "        vertical-align: top;\n",
       "    }\n",
       "\n",
       "    .dataframe thead th {\n",
       "        text-align: right;\n",
       "    }\n",
       "</style>\n",
       "<table border=\"1\" class=\"dataframe\">\n",
       "  <thead>\n",
       "    <tr style=\"text-align: right;\">\n",
       "      <th></th>\n",
       "      <th>book_id</th>\n",
       "      <th>user_id</th>\n",
       "      <th>rating</th>\n",
       "    </tr>\n",
       "  </thead>\n",
       "  <tbody>\n",
       "    <tr>\n",
       "      <th>536497</th>\n",
       "      <td>5383</td>\n",
       "      <td>11379</td>\n",
       "      <td>4</td>\n",
       "    </tr>\n",
       "    <tr>\n",
       "      <th>121923</th>\n",
       "      <td>1220</td>\n",
       "      <td>11208</td>\n",
       "      <td>3</td>\n",
       "    </tr>\n",
       "    <tr>\n",
       "      <th>126551</th>\n",
       "      <td>1266</td>\n",
       "      <td>31503</td>\n",
       "      <td>5</td>\n",
       "    </tr>\n",
       "    <tr>\n",
       "      <th>951547</th>\n",
       "      <td>9672</td>\n",
       "      <td>43866</td>\n",
       "      <td>4</td>\n",
       "    </tr>\n",
       "    <tr>\n",
       "      <th>418145</th>\n",
       "      <td>4188</td>\n",
       "      <td>28883</td>\n",
       "      <td>4</td>\n",
       "    </tr>\n",
       "    <tr>\n",
       "      <th>...</th>\n",
       "      <td>...</td>\n",
       "      <td>...</td>\n",
       "      <td>...</td>\n",
       "    </tr>\n",
       "    <tr>\n",
       "      <th>88455</th>\n",
       "      <td>885</td>\n",
       "      <td>21658</td>\n",
       "      <td>3</td>\n",
       "    </tr>\n",
       "    <tr>\n",
       "      <th>933978</th>\n",
       "      <td>9484</td>\n",
       "      <td>25590</td>\n",
       "      <td>2</td>\n",
       "    </tr>\n",
       "    <tr>\n",
       "      <th>630407</th>\n",
       "      <td>6332</td>\n",
       "      <td>10769</td>\n",
       "      <td>3</td>\n",
       "    </tr>\n",
       "    <tr>\n",
       "      <th>881872</th>\n",
       "      <td>8926</td>\n",
       "      <td>45961</td>\n",
       "      <td>5</td>\n",
       "    </tr>\n",
       "    <tr>\n",
       "      <th>553363</th>\n",
       "      <td>5554</td>\n",
       "      <td>2929</td>\n",
       "      <td>5</td>\n",
       "    </tr>\n",
       "  </tbody>\n",
       "</table>\n",
       "<p>589053 rows × 3 columns</p>\n",
       "</div>"
      ],
      "text/plain": [
       "        book_id  user_id  rating\n",
       "536497     5383    11379       4\n",
       "121923     1220    11208       3\n",
       "126551     1266    31503       5\n",
       "951547     9672    43866       4\n",
       "418145     4188    28883       4\n",
       "...         ...      ...     ...\n",
       "88455       885    21658       3\n",
       "933978     9484    25590       2\n",
       "630407     6332    10769       3\n",
       "881872     8926    45961       5\n",
       "553363     5554     2929       5\n",
       "\n",
       "[589053 rows x 3 columns]"
      ]
     },
     "execution_count": 9,
     "metadata": {},
     "output_type": "execute_result"
    }
   ],
   "source": [
    "train"
   ]
  },
  {
   "cell_type": "code",
   "execution_count": 10,
   "metadata": {},
   "outputs": [
    {
     "data": {
      "text/html": [
       "<div>\n",
       "<style scoped>\n",
       "    .dataframe tbody tr th:only-of-type {\n",
       "        vertical-align: middle;\n",
       "    }\n",
       "\n",
       "    .dataframe tbody tr th {\n",
       "        vertical-align: top;\n",
       "    }\n",
       "\n",
       "    .dataframe thead th {\n",
       "        text-align: right;\n",
       "    }\n",
       "</style>\n",
       "<table border=\"1\" class=\"dataframe\">\n",
       "  <thead>\n",
       "    <tr style=\"text-align: right;\">\n",
       "      <th></th>\n",
       "      <th>book_id</th>\n",
       "      <th>user_id</th>\n",
       "      <th>rating</th>\n",
       "    </tr>\n",
       "  </thead>\n",
       "  <tbody>\n",
       "    <tr>\n",
       "      <th>522216</th>\n",
       "      <td>5238</td>\n",
       "      <td>39548</td>\n",
       "      <td>3</td>\n",
       "    </tr>\n",
       "    <tr>\n",
       "      <th>901937</th>\n",
       "      <td>9140</td>\n",
       "      <td>8809</td>\n",
       "      <td>5</td>\n",
       "    </tr>\n",
       "    <tr>\n",
       "      <th>156837</th>\n",
       "      <td>1569</td>\n",
       "      <td>33207</td>\n",
       "      <td>4</td>\n",
       "    </tr>\n",
       "    <tr>\n",
       "      <th>859697</th>\n",
       "      <td>8695</td>\n",
       "      <td>21612</td>\n",
       "      <td>4</td>\n",
       "    </tr>\n",
       "    <tr>\n",
       "      <th>681747</th>\n",
       "      <td>6854</td>\n",
       "      <td>43358</td>\n",
       "      <td>4</td>\n",
       "    </tr>\n",
       "    <tr>\n",
       "      <th>...</th>\n",
       "      <td>...</td>\n",
       "      <td>...</td>\n",
       "      <td>...</td>\n",
       "    </tr>\n",
       "    <tr>\n",
       "      <th>68316</th>\n",
       "      <td>684</td>\n",
       "      <td>18090</td>\n",
       "      <td>5</td>\n",
       "    </tr>\n",
       "    <tr>\n",
       "      <th>588606</th>\n",
       "      <td>5909</td>\n",
       "      <td>49846</td>\n",
       "      <td>5</td>\n",
       "    </tr>\n",
       "    <tr>\n",
       "      <th>345503</th>\n",
       "      <td>3459</td>\n",
       "      <td>33993</td>\n",
       "      <td>5</td>\n",
       "    </tr>\n",
       "    <tr>\n",
       "      <th>399348</th>\n",
       "      <td>3999</td>\n",
       "      <td>45126</td>\n",
       "      <td>1</td>\n",
       "    </tr>\n",
       "    <tr>\n",
       "      <th>938791</th>\n",
       "      <td>9536</td>\n",
       "      <td>51505</td>\n",
       "      <td>5</td>\n",
       "    </tr>\n",
       "  </tbody>\n",
       "</table>\n",
       "<p>196351 rows × 3 columns</p>\n",
       "</div>"
      ],
      "text/plain": [
       "        book_id  user_id  rating\n",
       "522216     5238    39548       3\n",
       "901937     9140     8809       5\n",
       "156837     1569    33207       4\n",
       "859697     8695    21612       4\n",
       "681747     6854    43358       4\n",
       "...         ...      ...     ...\n",
       "68316       684    18090       5\n",
       "588606     5909    49846       5\n",
       "345503     3459    33993       5\n",
       "399348     3999    45126       1\n",
       "938791     9536    51505       5\n",
       "\n",
       "[196351 rows x 3 columns]"
      ]
     },
     "execution_count": 10,
     "metadata": {},
     "output_type": "execute_result"
    }
   ],
   "source": [
    "validate"
   ]
  },
  {
   "cell_type": "code",
   "execution_count": 11,
   "metadata": {},
   "outputs": [
    {
     "data": {
      "text/html": [
       "<div>\n",
       "<style scoped>\n",
       "    .dataframe tbody tr th:only-of-type {\n",
       "        vertical-align: middle;\n",
       "    }\n",
       "\n",
       "    .dataframe tbody tr th {\n",
       "        vertical-align: top;\n",
       "    }\n",
       "\n",
       "    .dataframe thead th {\n",
       "        text-align: right;\n",
       "    }\n",
       "</style>\n",
       "<table border=\"1\" class=\"dataframe\">\n",
       "  <thead>\n",
       "    <tr style=\"text-align: right;\">\n",
       "      <th></th>\n",
       "      <th>book_id</th>\n",
       "      <th>user_id</th>\n",
       "      <th>rating</th>\n",
       "    </tr>\n",
       "  </thead>\n",
       "  <tbody>\n",
       "    <tr>\n",
       "      <th>870219</th>\n",
       "      <td>8805</td>\n",
       "      <td>2916</td>\n",
       "      <td>5</td>\n",
       "    </tr>\n",
       "    <tr>\n",
       "      <th>205546</th>\n",
       "      <td>2057</td>\n",
       "      <td>29995</td>\n",
       "      <td>5</td>\n",
       "    </tr>\n",
       "    <tr>\n",
       "      <th>244262</th>\n",
       "      <td>2445</td>\n",
       "      <td>10353</td>\n",
       "      <td>5</td>\n",
       "    </tr>\n",
       "    <tr>\n",
       "      <th>606838</th>\n",
       "      <td>6094</td>\n",
       "      <td>6724</td>\n",
       "      <td>3</td>\n",
       "    </tr>\n",
       "    <tr>\n",
       "      <th>185697</th>\n",
       "      <td>1858</td>\n",
       "      <td>12145</td>\n",
       "      <td>4</td>\n",
       "    </tr>\n",
       "    <tr>\n",
       "      <th>...</th>\n",
       "      <td>...</td>\n",
       "      <td>...</td>\n",
       "      <td>...</td>\n",
       "    </tr>\n",
       "    <tr>\n",
       "      <th>773452</th>\n",
       "      <td>7795</td>\n",
       "      <td>18654</td>\n",
       "      <td>4</td>\n",
       "    </tr>\n",
       "    <tr>\n",
       "      <th>248381</th>\n",
       "      <td>2486</td>\n",
       "      <td>19313</td>\n",
       "      <td>4</td>\n",
       "    </tr>\n",
       "    <tr>\n",
       "      <th>536107</th>\n",
       "      <td>5379</td>\n",
       "      <td>18298</td>\n",
       "      <td>5</td>\n",
       "    </tr>\n",
       "    <tr>\n",
       "      <th>398380</th>\n",
       "      <td>3990</td>\n",
       "      <td>9751</td>\n",
       "      <td>2</td>\n",
       "    </tr>\n",
       "    <tr>\n",
       "      <th>743374</th>\n",
       "      <td>7485</td>\n",
       "      <td>41123</td>\n",
       "      <td>4</td>\n",
       "    </tr>\n",
       "  </tbody>\n",
       "</table>\n",
       "<p>196352 rows × 3 columns</p>\n",
       "</div>"
      ],
      "text/plain": [
       "        book_id  user_id  rating\n",
       "870219     8805     2916       5\n",
       "205546     2057    29995       5\n",
       "244262     2445    10353       5\n",
       "606838     6094     6724       3\n",
       "185697     1858    12145       4\n",
       "...         ...      ...     ...\n",
       "773452     7795    18654       4\n",
       "248381     2486    19313       4\n",
       "536107     5379    18298       5\n",
       "398380     3990     9751       2\n",
       "743374     7485    41123       4\n",
       "\n",
       "[196352 rows x 3 columns]"
      ]
     },
     "execution_count": 11,
     "metadata": {},
     "output_type": "execute_result"
    }
   ],
   "source": [
    "test"
   ]
  },
  {
   "cell_type": "code",
   "execution_count": 12,
   "metadata": {},
   "outputs": [],
   "source": [
    "## creating word embeddings\n",
    "book_input = Input(shape=[1], name=\"Book-Input\")\n",
    "book_embedding = Embedding(n_books+1, 5, name=\"Book-Embedding\")(book_input)\n",
    "book_vec = Flatten(name=\"Flatten-Books\")(book_embedding)\n",
    "\n",
    "user_input = Input(shape=[1], name=\"User-Input\")\n",
    "user_embedding = Embedding(n_users+1, 5, name=\"User-Embedding\")(user_input)\n",
    "user_vec = Flatten(name=\"Flatten-Users\")(user_embedding)"
   ]
  },
  {
   "cell_type": "code",
   "execution_count": 13,
   "metadata": {},
   "outputs": [],
   "source": [
    "### simple dot product model or the content based recommender model\n",
    "\n",
    "prod = Dot(name=\"Dot-Product\", axes=1)([book_vec, user_vec])\n",
    "model = Model([user_input, book_input], prod)\n",
    "\n",
    "model.compile(optimizer = 'adam', loss = 'mean_squared_error' , metrics = ['acc'])\n"
   ]
  },
  {
   "cell_type": "code",
   "execution_count": 15,
   "metadata": {},
   "outputs": [
    {
     "name": "stdout",
     "output_type": "stream",
     "text": [
      "Train on 589053 samples, validate on 196351 samples\n",
      "Epoch 1/32\n",
      "589053/589053 [==============================] - 133s 226us/step - loss: 8.0953 - acc: 0.0994 - val_loss: 4.2760 - val_acc: 0.2303\n",
      "Epoch 2/32\n",
      "589053/589053 [==============================] - 64s 109us/step - loss: 2.7468 - acc: 0.3149 - val_loss: 2.2315 - val_acc: 0.3533\n",
      "Epoch 3/32\n",
      "589053/589053 [==============================] - 68s 115us/step - loss: 1.5963 - acc: 0.3903 - val_loss: 1.6627 - val_acc: 0.3930\n",
      "Epoch 4/32\n",
      "589053/589053 [==============================] - 70s 119us/step - loss: 1.1966 - acc: 0.4246 - val_loss: 1.4106 - val_acc: 0.4137\n",
      "Epoch 5/32\n",
      "589053/589053 [==============================] - 72s 122us/step - loss: 1.0034 - acc: 0.4461 - val_loss: 1.2690 - val_acc: 0.4255\n",
      "Epoch 6/32\n",
      "589053/589053 [==============================] - 73s 124us/step - loss: 0.8939 - acc: 0.4619 - val_loss: 1.1833 - val_acc: 0.4333\n",
      "Epoch 7/32\n",
      "589053/589053 [==============================] - 74s 126us/step - loss: 0.8248 - acc: 0.4749 - val_loss: 1.1201 - val_acc: 0.4397\n",
      "Epoch 8/32\n",
      "589053/589053 [==============================] - 76s 130us/step - loss: 0.7788 - acc: 0.4834 - val_loss: 1.0757 - val_acc: 0.4454\n",
      "Epoch 9/32\n",
      "589053/589053 [==============================] - 76s 129us/step - loss: 0.7471 - acc: 0.4913 - val_loss: 1.0455 - val_acc: 0.4481\n",
      "Epoch 10/32\n",
      "589053/589053 [==============================] - 76s 130us/step - loss: 0.7230 - acc: 0.4989 - val_loss: 1.0241 - val_acc: 0.4504\n",
      "Epoch 11/32\n",
      "589053/589053 [==============================] - 77s 131us/step - loss: 0.7048 - acc: 0.5049 - val_loss: 1.0081 - val_acc: 0.4538\n",
      "Epoch 12/32\n",
      "589053/589053 [==============================] - 78s 132us/step - loss: 0.6890 - acc: 0.5102 - val_loss: 0.9959 - val_acc: 0.4544\n",
      "Epoch 13/32\n",
      "589053/589053 [==============================] - 78s 132us/step - loss: 0.6765 - acc: 0.5150 - val_loss: 0.9827 - val_acc: 0.4570\n",
      "Epoch 14/32\n",
      "589053/589053 [==============================] - 78s 132us/step - loss: 0.6641 - acc: 0.5190 - val_loss: 0.9766 - val_acc: 0.4567\n",
      "Epoch 15/32\n",
      "589053/589053 [==============================] - 78s 132us/step - loss: 0.6531 - acc: 0.5233 - val_loss: 0.9703 - val_acc: 0.4584\n",
      "Epoch 16/32\n",
      "589053/589053 [==============================] - 80s 135us/step - loss: 0.6427 - acc: 0.5283 - val_loss: 0.9685 - val_acc: 0.4598\n",
      "Epoch 17/32\n",
      "589053/589053 [==============================] - 84s 142us/step - loss: 0.6333 - acc: 0.5336 - val_loss: 0.9681 - val_acc: 0.4592\n",
      "Epoch 18/32\n",
      "589053/589053 [==============================] - 84s 142us/step - loss: 0.6237 - acc: 0.5381 - val_loss: 0.9685 - val_acc: 0.4610\n",
      "Epoch 19/32\n",
      "589053/589053 [==============================] - 79s 135us/step - loss: 0.6155 - acc: 0.5424 - val_loss: 0.9706 - val_acc: 0.4605\n",
      "Epoch 20/32\n",
      "589053/589053 [==============================] - 81s 137us/step - loss: 0.6078 - acc: 0.5469 - val_loss: 0.9739 - val_acc: 0.4601\n",
      "Epoch 21/32\n",
      "589053/589053 [==============================] - 78s 132us/step - loss: 0.6003 - acc: 0.5516 - val_loss: 0.9789 - val_acc: 0.4604\n",
      "Epoch 22/32\n",
      "589053/589053 [==============================] - 76s 129us/step - loss: 0.5932 - acc: 0.5561 - val_loss: 0.9812 - val_acc: 0.4597\n",
      "Epoch 23/32\n",
      "589053/589053 [==============================] - 80s 136us/step - loss: 0.5867 - acc: 0.5592 - val_loss: 0.9850 - val_acc: 0.4600\n",
      "Epoch 24/32\n",
      "589053/589053 [==============================] - 79s 135us/step - loss: 0.5803 - acc: 0.5635 - val_loss: 0.9884 - val_acc: 0.4586\n",
      "Epoch 25/32\n",
      "589053/589053 [==============================] - 77s 130us/step - loss: 0.5739 - acc: 0.5675 - val_loss: 0.9921 - val_acc: 0.4578\n",
      "Epoch 26/32\n",
      "589053/589053 [==============================] - 76s 130us/step - loss: 0.5679 - acc: 0.5717 - val_loss: 0.9982 - val_acc: 0.4569\n",
      "Epoch 27/32\n",
      "589053/589053 [==============================] - 76s 129us/step - loss: 0.5624 - acc: 0.5741 - val_loss: 1.0039 - val_acc: 0.4559\n",
      "Epoch 28/32\n",
      "589053/589053 [==============================] - 78s 132us/step - loss: 0.5563 - acc: 0.5787 - val_loss: 1.0073 - val_acc: 0.4556\n",
      "Epoch 29/32\n",
      "589053/589053 [==============================] - 78s 132us/step - loss: 0.5513 - acc: 0.5814 - val_loss: 1.0117 - val_acc: 0.4555\n",
      "Epoch 30/32\n",
      "589053/589053 [==============================] - 87s 148us/step - loss: 0.5461 - acc: 0.5843 - val_loss: 1.0156 - val_acc: 0.4544\n",
      "Epoch 31/32\n",
      "589053/589053 [==============================] - 82s 140us/step - loss: 0.5412 - acc: 0.5869 - val_loss: 1.0210 - val_acc: 0.4534\n",
      "Epoch 32/32\n",
      "589053/589053 [==============================] - 78s 132us/step - loss: 0.5367 - acc: 0.5902 - val_loss: 1.0251 - val_acc: 0.4522\n"
     ]
    }
   ],
   "source": [
    "history = model.fit([train.user_id, train.book_id], train.rating,\n",
    "                    validation_data = ([validate.user_id,validate.book_id],validate.rating),\n",
    "                    epochs=32 )\n",
    "model.save('dot_product_model.h5')"
   ]
  },
  {
   "cell_type": "code",
   "execution_count": 16,
   "metadata": {},
   "outputs": [
    {
     "data": {
      "text/plain": [
       "[<matplotlib.lines.Line2D at 0x254011f99b0>]"
      ]
     },
     "execution_count": 16,
     "metadata": {},
     "output_type": "execute_result"
    },
    {
     "data": {
      "image/png": "[encoded data removed]",
      "text/plain": [
       "<Figure size 720x720 with 1 Axes>"
      ]
     },
     "metadata": {
      "needs_background": "light"
     },
     "output_type": "display_data"
    }
   ],
   "source": [
    "acc = history.history['acc']\n",
    "val_acc = history.history['val_acc']\n",
    "epochs = range(1,len(acc)+1)\n",
    "plt.figure(figsize = (10,10))\n",
    "plt.plot(epochs,acc,color= 'yellow')\n",
    "plt.plot(epochs,val_acc,color = 'green')"
   ]
  },
  {
   "cell_type": "code",
   "execution_count": 17,
   "metadata": {},
   "outputs": [
    {
     "data": {
      "text/plain": [
       "[<matplotlib.lines.Line2D at 0x255012376a0>]"
      ]
     },
     "execution_count": 17,
     "metadata": {},
     "output_type": "execute_result"
    },
    {
     "data": {
      "image/png": "[encoded data removed]",
      "text/plain": [
       "<Figure size 720x720 with 1 Axes>"
      ]
     },
     "metadata": {
      "needs_background": "light"
     },
     "output_type": "display_data"
    }
   ],
   "source": [
    "loss = history.history['loss']\n",
    "val_loss = history.history['val_loss']\n",
    "epochs = range(1,len(acc)+1)\n",
    "plt.figure(figsize = (10,10))\n",
    "plt.plot(epochs,acc,color= 'yellow')\n",
    "plt.plot(epochs,val_acc,color = 'green')"
   ]
  },
  {
   "cell_type": "code",
   "execution_count": 18,
   "metadata": {},
   "outputs": [
    {
     "name": "stdout",
     "output_type": "stream",
     "text": [
      "196352/196352 [==============================] - 11s 57us/step\n"
     ]
    }
   ],
   "source": [
    "model = load_model('dot_product_model.h5')\n",
    "test_loss , test_acc = model.evaluate([test.user_id, test.book_id], test.rating)"
   ]
  },
  {
   "cell_type": "code",
   "execution_count": 19,
   "metadata": {},
   "outputs": [
    {
     "name": "stdout",
     "output_type": "stream",
     "text": [
      "The loss on test set is 1.037909746796592 and accuracy is 0.4525342285633087\n"
     ]
    }
   ],
   "source": [
    "print(f\"The loss on test set is {test_loss} and accuracy is {test_acc}\")"
   ]
  },
  {
   "cell_type": "code",
   "execution_count": 20,
   "metadata": {},
   "outputs": [],
   "source": [
    "## clearly the dot product model isn't the best model for our problem\n",
    "## we will explore other several possible neural network architecures\n",
    "concatenate_features = Concatenate()([book_vec, user_vec])\n",
    "\n",
    "# adding  fully-connected-layers\n",
    "fc1 = Dense(128, activation='relu')(concatenate_features)\n",
    "fc2 = Dense(32, activation='relu')(fc1)\n",
    "out = Dense(1)(fc2)\n",
    "\n",
    "# Create model and compile it\n",
    "model2 = Model([user_input, book_input], out)\n",
    "model2.compile(optimizer = 'adam', loss = 'mean_squared_error',metrics = ['acc'])"
   ]
  },
  {
   "cell_type": "code",
   "execution_count": 21,
   "metadata": {},
   "outputs": [
    {
     "name": "stdout",
     "output_type": "stream",
     "text": [
      "Train on 589053 samples, validate on 196351 samples\n",
      "Epoch 1/32\n",
      "589053/589053 [==============================] - 94s 159us/step - loss: 0.5512 - acc: 0.5636 - val_loss: 0.8596 - val_acc: 0.4487\n",
      "Epoch 2/32\n",
      "589053/589053 [==============================] - 92s 155us/step - loss: 0.5070 - acc: 0.5925 - val_loss: 0.8670 - val_acc: 0.4708\n",
      "Epoch 3/32\n",
      "589053/589053 [==============================] - 96s 163us/step - loss: 0.4892 - acc: 0.6059 - val_loss: 0.8596 - val_acc: 0.4673\n",
      "Epoch 4/32\n",
      "589053/589053 [==============================] - 105s 178us/step - loss: 0.4754 - acc: 0.6166 - val_loss: 0.8611 - val_acc: 0.4628\n",
      "Epoch 5/32\n",
      "589053/589053 [==============================] - 104s 177us/step - loss: 0.4634 - acc: 0.6254 - val_loss: 0.8533 - val_acc: 0.4657\n",
      "Epoch 6/32\n",
      "589053/589053 [==============================] - 94s 159us/step - loss: 0.4535 - acc: 0.6333 - val_loss: 0.8556 - val_acc: 0.4700\n",
      "Epoch 7/32\n",
      "589053/589053 [==============================] - 91s 154us/step - loss: 0.4444 - acc: 0.6405 - val_loss: 0.8712 - val_acc: 0.4661\n",
      "Epoch 8/32\n",
      "589053/589053 [==============================] - 95s 161us/step - loss: 0.4365 - acc: 0.6472 - val_loss: 0.8659 - val_acc: 0.4626\n",
      "Epoch 9/32\n",
      "589053/589053 [==============================] - 97s 165us/step - loss: 0.4297 - acc: 0.6533 - val_loss: 0.8676 - val_acc: 0.4658\n",
      "Epoch 10/32\n",
      "589053/589053 [==============================] - 94s 160us/step - loss: 0.4233 - acc: 0.6585 - val_loss: 0.8690 - val_acc: 0.4605\n",
      "Epoch 11/32\n",
      "589053/589053 [==============================] - 97s 164us/step - loss: 0.4179 - acc: 0.6625 - val_loss: 0.8739 - val_acc: 0.4631\n",
      "Epoch 12/32\n",
      "589053/589053 [==============================] - 95s 162us/step - loss: 0.4131 - acc: 0.6665 - val_loss: 0.8751 - val_acc: 0.4595\n",
      "Epoch 13/32\n",
      "589053/589053 [==============================] - 92s 156us/step - loss: 0.4085 - acc: 0.6700 - val_loss: 0.8669 - val_acc: 0.4592\n",
      "Epoch 14/32\n",
      "589053/589053 [==============================] - 93s 158us/step - loss: 0.4047 - acc: 0.6730 - val_loss: 0.8888 - val_acc: 0.4602\n",
      "Epoch 15/32\n",
      "589053/589053 [==============================] - 109s 185us/step - loss: 0.4009 - acc: 0.6757 - val_loss: 0.8990 - val_acc: 0.4622\n",
      "Epoch 16/32\n",
      "589053/589053 [==============================] - 106s 180us/step - loss: 0.3975 - acc: 0.6789 - val_loss: 0.9009 - val_acc: 0.4584\n",
      "Epoch 17/32\n",
      "589053/589053 [==============================] - 97s 164us/step - loss: 0.3944 - acc: 0.6815 - val_loss: 0.9011 - val_acc: 0.4596\n",
      "Epoch 18/32\n",
      "589053/589053 [==============================] - 97s 164us/step - loss: 0.3915 - acc: 0.6834 - val_loss: 0.9013 - val_acc: 0.4607\n",
      "Epoch 19/32\n",
      "589053/589053 [==============================] - 98s 166us/step - loss: 0.3885 - acc: 0.6857 - val_loss: 0.9035 - val_acc: 0.4599\n",
      "Epoch 20/32\n",
      "589053/589053 [==============================] - 98s 166us/step - loss: 0.3856 - acc: 0.6884 - val_loss: 0.9013 - val_acc: 0.4567\n",
      "Epoch 21/32\n",
      "589053/589053 [==============================] - 104s 177us/step - loss: 0.3833 - acc: 0.6899 - val_loss: 0.8990 - val_acc: 0.4559\n",
      "Epoch 22/32\n",
      "589053/589053 [==============================] - 97s 165us/step - loss: 0.3811 - acc: 0.6918 - val_loss: 0.9063 - val_acc: 0.4543\n",
      "Epoch 23/32\n",
      "589053/589053 [==============================] - 97s 165us/step - loss: 0.3785 - acc: 0.6936 - val_loss: 0.9377 - val_acc: 0.4508\n",
      "Epoch 24/32\n",
      "589053/589053 [==============================] - 97s 165us/step - loss: 0.3761 - acc: 0.6955 - val_loss: 0.9358 - val_acc: 0.4574\n",
      "Epoch 25/32\n",
      "589053/589053 [==============================] - 99s 168us/step - loss: 0.3741 - acc: 0.6965 - val_loss: 0.9240 - val_acc: 0.4451\n",
      "Epoch 26/32\n",
      "589053/589053 [==============================] - 97s 165us/step - loss: 0.3722 - acc: 0.6985 - val_loss: 0.9239 - val_acc: 0.4573\n",
      "Epoch 27/32\n",
      "589053/589053 [==============================] - 97s 165us/step - loss: 0.3701 - acc: 0.6997 - val_loss: 0.9287 - val_acc: 0.4564\n",
      "Epoch 28/32\n",
      "589053/589053 [==============================] - 98s 166us/step - loss: 0.3682 - acc: 0.7011 - val_loss: 0.9400 - val_acc: 0.4551\n",
      "Epoch 29/32\n",
      "589053/589053 [==============================] - 98s 166us/step - loss: 0.3660 - acc: 0.7025 - val_loss: 0.9223 - val_acc: 0.4476\n",
      "Epoch 30/32\n",
      "589053/589053 [==============================] - 97s 165us/step - loss: 0.3642 - acc: 0.7034 - val_loss: 0.9361 - val_acc: 0.4517\n",
      "Epoch 31/32\n",
      "589053/589053 [==============================] - 97s 164us/step - loss: 0.3625 - acc: 0.7047 - val_loss: 0.9470 - val_acc: 0.4575\n",
      "Epoch 32/32\n",
      "589053/589053 [==============================] - 96s 163us/step - loss: 0.3608 - acc: 0.7059 - val_loss: 0.9295 - val_acc: 0.4539\n"
     ]
    }
   ],
   "source": [
    "history2 = model2.fit([train.user_id, train.book_id], train.rating,\n",
    "                    validation_data = ([validate.user_id,validate.book_id],validate.rating),\n",
    "                    epochs=32)"
   ]
  },
  {
   "cell_type": "code",
   "execution_count": 22,
   "metadata": {},
   "outputs": [
    {
     "data": {
      "text/plain": [
       "[<matplotlib.lines.Line2D at 0x25504032898>]"
      ]
     },
     "execution_count": 22,
     "metadata": {},
     "output_type": "execute_result"
    },
    {
     "data": {
      "image/png": "[encoded data removed]",
      "text/plain": [
       "<Figure size 720x720 with 1 Axes>"
      ]
     },
     "metadata": {
      "needs_background": "light"
     },
     "output_type": "display_data"
    }
   ],
   "source": [
    "acc = history2.history['acc']\n",
    "val_acc = history2.history['val_acc']\n",
    "epochs = range(1,len(acc)+1)\n",
    "plt.figure(figsize = (10,10))\n",
    "plt.plot(epochs,acc,color= 'yellow')\n",
    "plt.plot(epochs,val_acc,color = 'green')"
   ]
  },
  {
   "cell_type": "code",
   "execution_count": 23,
   "metadata": {},
   "outputs": [
    {
     "data": {
      "text/plain": [
       "[<matplotlib.lines.Line2D at 0x255053efa90>]"
      ]
     },
     "execution_count": 23,
     "metadata": {},
     "output_type": "execute_result"
    },
    {
     "data": {
      "image/png": "[encoded data removed]",
      "text/plain": [
       "<Figure size 720x720 with 1 Axes>"
      ]
     },
     "metadata": {
      "needs_background": "light"
     },
     "output_type": "display_data"
    }
   ],
   "source": [
    "loss = history2.history['loss']\n",
    "val_loss = history2.history['val_loss']\n",
    "epochs = range(1,len(acc)+1)\n",
    "plt.figure(figsize = (10,10))\n",
    "plt.plot(epochs,acc,color= 'yellow')\n",
    "plt.plot(epochs,val_acc,color = 'green')"
   ]
  },
  {
   "cell_type": "code",
   "execution_count": 24,
   "metadata": {},
   "outputs": [],
   "source": [
    "model2.save('nn1_model.h5')"
   ]
  },
  {
   "cell_type": "code",
   "execution_count": 25,
   "metadata": {},
   "outputs": [
    {
     "name": "stdout",
     "output_type": "stream",
     "text": [
      "196352/196352 [==============================] - 12s 63us/step\n"
     ]
    }
   ],
   "source": [
    "model2 = load_model('nn1_model.h5')\n",
    "test_loss , test_acc = model2.evaluate([test.user_id, test.book_id], test.rating)"
   ]
  },
  {
   "cell_type": "code",
   "execution_count": 26,
   "metadata": {},
   "outputs": [
    {
     "name": "stdout",
     "output_type": "stream",
     "text": [
      "The loss on test set is 0.9371471319498186 and accuracy is 0.454214870929718\n"
     ]
    }
   ],
   "source": [
    "print(f\"The loss on test set is {test_loss} and accuracy is {test_acc}\")"
   ]
  },
  {
   "cell_type": "code",
   "execution_count": 27,
   "metadata": {},
   "outputs": [],
   "source": [
    "## clearly the dot product model isn't the best model for our problem\n",
    "## we will explore other several possible neural network architecures\n",
    "concatenate_features = Concatenate()([book_vec, user_vec])\n",
    "\n",
    "# adding  fully-connected-layers\n",
    "fc1 = Dense(128, activation='relu')(concatenate_features)\n",
    "d1 = Dropout(0.5)(fc1)\n",
    "fc2 = Dense(32, activation='relu')(d1)\n",
    "out = Dense(1)(fc2)\n",
    "\n",
    "# Create model and compile it\n",
    "model3 = Model([user_input, book_input], out)\n",
    "model3.compile(optimizer = 'adam', loss = 'mean_squared_error',metrics = ['acc'])"
   ]
  },
  {
   "cell_type": "code",
   "execution_count": 28,
   "metadata": {},
   "outputs": [
    {
     "name": "stdout",
     "output_type": "stream",
     "text": [
      "Train on 589053 samples, validate on 196351 samples\n",
      "Epoch 1/32\n",
      "589053/589053 [==============================] - 99s 169us/step - loss: 0.5526 - acc: 0.5591 - val_loss: 1.2448 - val_acc: 0.2931\n",
      "Epoch 2/32\n",
      "589053/589053 [==============================] - 99s 168us/step - loss: 0.4635 - acc: 0.6129 - val_loss: 0.9762 - val_acc: 0.3512\n",
      "Epoch 3/32\n",
      "589053/589053 [==============================] - 99s 168us/step - loss: 0.4479 - acc: 0.6249 - val_loss: 1.0189 - val_acc: 0.3378\n",
      "Epoch 4/32\n",
      "589053/589053 [==============================] - 103s 175us/step - loss: 0.4396 - acc: 0.6325 - val_loss: 1.0315 - val_acc: 0.3339\n",
      "Epoch 5/32\n",
      "589053/589053 [==============================] - 104s 177us/step - loss: 0.4325 - acc: 0.6384 - val_loss: 0.9615 - val_acc: 0.3511\n",
      "Epoch 6/32\n",
      "589053/589053 [==============================] - 104s 176us/step - loss: 0.4272 - acc: 0.6429 - val_loss: 0.8948 - val_acc: 0.3696\n",
      "Epoch 7/32\n",
      "589053/589053 [==============================] - 103s 176us/step - loss: 0.4221 - acc: 0.6465 - val_loss: 0.8996 - val_acc: 0.3650\n",
      "Epoch 8/32\n",
      "589053/589053 [==============================] - 105s 178us/step - loss: 0.4180 - acc: 0.6512 - val_loss: 0.8776 - val_acc: 0.3715\n",
      "Epoch 9/32\n",
      "589053/589053 [==============================] - 103s 175us/step - loss: 0.4143 - acc: 0.6537 - val_loss: 0.9001 - val_acc: 0.3644\n",
      "Epoch 10/32\n",
      "589053/589053 [==============================] - 103s 175us/step - loss: 0.4106 - acc: 0.6570 - val_loss: 0.8715 - val_acc: 0.3733\n",
      "Epoch 11/32\n",
      "589053/589053 [==============================] - 104s 177us/step - loss: 0.4078 - acc: 0.6589 - val_loss: 0.8896 - val_acc: 0.3680\n",
      "Epoch 12/32\n",
      "589053/589053 [==============================] - 104s 176us/step - loss: 0.4044 - acc: 0.6608 - val_loss: 0.8811 - val_acc: 0.3721\n",
      "Epoch 13/32\n",
      "589053/589053 [==============================] - 104s 177us/step - loss: 0.4027 - acc: 0.6631 - val_loss: 0.8742 - val_acc: 0.3696\n",
      "Epoch 14/32\n",
      "589053/589053 [==============================] - 106s 180us/step - loss: 0.4000 - acc: 0.6650 - val_loss: 0.9006 - val_acc: 0.3671\n",
      "Epoch 15/32\n",
      "589053/589053 [==============================] - 104s 176us/step - loss: 0.3975 - acc: 0.6667 - val_loss: 0.8828 - val_acc: 0.3694\n",
      "Epoch 16/32\n",
      "589053/589053 [==============================] - 103s 174us/step - loss: 0.3956 - acc: 0.6686 - val_loss: 0.8837 - val_acc: 0.3712\n",
      "Epoch 17/32\n",
      "589053/589053 [==============================] - 103s 174us/step - loss: 0.3932 - acc: 0.6705 - val_loss: 0.8792 - val_acc: 0.3707\n",
      "Epoch 18/32\n",
      "589053/589053 [==============================] - 103s 175us/step - loss: 0.3915 - acc: 0.6715 - val_loss: 0.8541 - val_acc: 0.3886\n",
      "Epoch 19/32\n",
      "589053/589053 [==============================] - 103s 175us/step - loss: 0.3889 - acc: 0.6732 - val_loss: 0.8540 - val_acc: 0.3910\n",
      "Epoch 20/32\n",
      "589053/589053 [==============================] - 103s 175us/step - loss: 0.3871 - acc: 0.6751 - val_loss: 0.8185 - val_acc: 0.4076\n",
      "Epoch 21/32\n",
      "589053/589053 [==============================] - 102s 174us/step - loss: 0.3853 - acc: 0.6759 - val_loss: 0.8505 - val_acc: 0.3945\n",
      "Epoch 22/32\n",
      "589053/589053 [==============================] - 103s 174us/step - loss: 0.3842 - acc: 0.6777 - val_loss: 0.8493 - val_acc: 0.4000\n",
      "Epoch 23/32\n",
      "589053/589053 [==============================] - 102s 174us/step - loss: 0.3821 - acc: 0.6784 - val_loss: 0.8597 - val_acc: 0.4039\n",
      "Epoch 24/32\n",
      "589053/589053 [==============================] - 102s 173us/step - loss: 0.3800 - acc: 0.6803 - val_loss: 0.8194 - val_acc: 0.4258\n",
      "Epoch 25/32\n",
      "589053/589053 [==============================] - 103s 174us/step - loss: 0.3785 - acc: 0.6816 - val_loss: 0.8291 - val_acc: 0.4203\n",
      "Epoch 26/32\n",
      "589053/589053 [==============================] - 103s 175us/step - loss: 0.3772 - acc: 0.6829 - val_loss: 0.8682 - val_acc: 0.3996\n",
      "Epoch 27/32\n",
      "589053/589053 [==============================] - 103s 175us/step - loss: 0.3760 - acc: 0.6837 - val_loss: 0.8393 - val_acc: 0.4434\n",
      "Epoch 28/32\n",
      "589053/589053 [==============================] - 104s 177us/step - loss: 0.3740 - acc: 0.6848 - val_loss: 0.8428 - val_acc: 0.4241\n",
      "Epoch 29/32\n",
      "589053/589053 [==============================] - 105s 177us/step - loss: 0.3725 - acc: 0.6862 - val_loss: 0.8487 - val_acc: 0.4384\n",
      "Epoch 30/32\n",
      "589053/589053 [==============================] - 106s 180us/step - loss: 0.3703 - acc: 0.6875 - val_loss: 0.8498 - val_acc: 0.4421\n",
      "Epoch 31/32\n",
      "589053/589053 [==============================] - 104s 176us/step - loss: 0.3702 - acc: 0.6880 - val_loss: 0.8596 - val_acc: 0.4255\n",
      "Epoch 32/32\n",
      "589053/589053 [==============================] - 99s 168us/step - loss: 0.3688 - acc: 0.6897 - val_loss: 0.8527 - val_acc: 0.4352\n"
     ]
    }
   ],
   "source": [
    "history3 = model3.fit([train.user_id, train.book_id], train.rating,\n",
    "                    validation_data = ([validate.user_id,validate.book_id],validate.rating),\n",
    "                    epochs=32)"
   ]
  },
  {
   "cell_type": "code",
   "execution_count": 29,
   "metadata": {},
   "outputs": [],
   "source": [
    "model3.save('nn2_model.h5')"
   ]
  },
  {
   "cell_type": "code",
   "execution_count": 30,
   "metadata": {},
   "outputs": [
    {
     "data": {
      "text/plain": [
       "[<matplotlib.lines.Line2D at 0x255053f7a20>]"
      ]
     },
     "execution_count": 30,
     "metadata": {},
     "output_type": "execute_result"
    },
    {
     "data": {
      "image/png": "[encoded data removed]",
      "text/plain": [
       "<Figure size 720x720 with 1 Axes>"
      ]
     },
     "metadata": {
      "needs_background": "light"
     },
     "output_type": "display_data"
    }
   ],
   "source": [
    "acc = history3.history['acc']\n",
    "val_acc = history3.history['val_acc']\n",
    "epochs = range(1,len(acc)+1)\n",
    "plt.figure(figsize = (10,10))\n",
    "plt.plot(epochs,acc,color= 'yellow')\n",
    "plt.plot(epochs,val_acc,color = 'green')"
   ]
  },
  {
   "cell_type": "code",
   "execution_count": 31,
   "metadata": {},
   "outputs": [
    {
     "data": {
      "text/plain": [
       "[<matplotlib.lines.Line2D at 0x2550727f5f8>]"
      ]
     },
     "execution_count": 31,
     "metadata": {},
     "output_type": "execute_result"
    },
    {
     "data": {
      "image/png": "[encoded data removed]",
      "text/plain": [
       "<Figure size 720x720 with 1 Axes>"
      ]
     },
     "metadata": {
      "needs_background": "light"
     },
     "output_type": "display_data"
    }
   ],
   "source": [
    "loss = history3.history['loss']\n",
    "val_loss = history3.history['val_loss']\n",
    "epochs = range(1,len(acc)+1)\n",
    "plt.figure(figsize = (10,10))\n",
    "plt.plot(epochs,acc,color= 'yellow')\n",
    "plt.plot(epochs,val_acc,color = 'green')"
   ]
  },
  {
   "cell_type": "code",
   "execution_count": 32,
   "metadata": {},
   "outputs": [
    {
     "name": "stdout",
     "output_type": "stream",
     "text": [
      "196352/196352 [==============================] - 13s 65us/step\n"
     ]
    }
   ],
   "source": [
    "model3 = load_model('nn2_model.h5')\n",
    "test_loss , test_acc = model3.evaluate([test.user_id, test.book_id], test.rating)"
   ]
  },
  {
   "cell_type": "code",
   "execution_count": 33,
   "metadata": {},
   "outputs": [
    {
     "name": "stdout",
     "output_type": "stream",
     "text": [
      "The loss on test set is 0.8582876167919443 and accuracy is 0.435427188873291\n"
     ]
    }
   ],
   "source": [
    "print(f\"The loss on test set is {test_loss} and accuracy is {test_acc}\")"
   ]
  },
  {
   "cell_type": "code",
   "execution_count": null,
   "metadata": {},
   "outputs": [],
   "source": []
  },
  {
   "cell_type": "code",
   "execution_count": null,
   "metadata": {},
   "outputs": [],
   "source": []
  }
 ],
 "metadata": {
  "kernelspec": {
   "display_name": "Python 3",
   "language": "python",
   "name": "python3"
  },
  "language_info": {
   "codemirror_mode": {
    "name": "ipython",
    "version": 3
   },
   "file_extension": ".py",
   "mimetype": "text/x-python",
   "name": "python",
   "nbconvert_exporter": "python",
   "pygments_lexer": "ipython3",
   "version": "3.6.10"
  }
 },
 "nbformat": 4,
 "nbformat_minor": 4
}
